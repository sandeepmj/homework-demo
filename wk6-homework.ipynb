{
 "cells": [
  {
   "cell_type": "code",
   "execution_count": 4,
   "id": "d009b32d",
   "metadata": {},
   "outputs": [
    {
     "name": "stdout",
     "output_type": "stream",
     "text": [
      "x is smaller than y\n"
     ]
    }
   ],
   "source": [
    "## Question 1\n",
    "## write a conditional expression that compares x and y and \n",
    "## prints \"x is larger than y\" if x is larger than y or\n",
    "## prints \"x is smaller than y\" if x is smaller than y\n",
    "\n",
    "x = 10\n",
    "y = 15\n",
    "\n",
    "if x > y:\n",
    "    print(\"x is larger than y\")\n",
    "elif x < y:\n",
    "    print(\"x is smaller than y\")\n",
    "else:\n",
    "    print(\"x and y are equal\")"
   ]
  },
  {
   "cell_type": "code",
   "execution_count": null,
   "id": "cc1f94b0",
   "metadata": {},
   "outputs": [],
   "source": [
    "## Question 2\n",
    "## write a for loop that prints the values in this list but increases each number by 5\n",
    "numbers = [1, 6, 11, 16, 21]"
   ]
  },
  {
   "cell_type": "code",
   "execution_count": null,
   "id": "a357b17a",
   "metadata": {},
   "outputs": [],
   "source": [
    "## Question 3\n",
    "## add these two numbers together and round to 2 decimal places\n",
    "number_1 = 42.569783\n",
    "number_2 = 101.668342"
   ]
  }
 ],
 "metadata": {
  "kernelspec": {
   "display_name": "Python 3 (ipykernel)",
   "language": "python",
   "name": "python3"
  },
  "language_info": {
   "codemirror_mode": {
    "name": "ipython",
    "version": 3
   },
   "file_extension": ".py",
   "mimetype": "text/x-python",
   "name": "python",
   "nbconvert_exporter": "python",
   "pygments_lexer": "ipython3",
   "version": "3.9.7"
  }
 },
 "nbformat": 4,
 "nbformat_minor": 5
}
